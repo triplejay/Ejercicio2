{
 "cells": [
  {
   "cell_type": "code",
   "execution_count": 10,
   "metadata": {},
   "outputs": [
    {
     "name": "stdout",
     "output_type": "stream",
     "text": [
      "       Nombre Producto  Precio   Ciudad  Poder_Adquisitivo\n",
      "0   Mercadona    leche    0.89  Granada                900\n",
      "1        Dani    leche    0.82  Granada                750\n",
      "2        Lidl    leche    0.79  Granada                800\n",
      "3        Aldi    leche    0.77  Granada                850\n",
      "4   Carrefour    leche    0.75  Granada               1000\n",
      "5     Coviran    leche    0.78  Granada                875\n",
      "6   Mercadona    Arroz    0.75  Almeria                950\n",
      "7        Dani    Arroz    0.72  Almeria                600\n",
      "8        Lidl    Arroz    0.78  Almeria                800\n",
      "9        Aldi    Arroz    0.79  Almeria                750\n",
      "10  Carrefour    Arroz    0.72  Almeria               1200\n",
      "11    Coviran    Arroz    0.74  Almeria                900\n",
      "12  Mercadona      pan    0.45   Malaga               1000\n",
      "13       Dani      pan    0.46   Malaga                800\n",
      "14       Lidl      pan    0.43   Malaga                900\n",
      "15       Aldi      pan    0.48   Malaga                950\n",
      "16  Carrefour      pan    0.50   Malaga               1100\n",
      "17    Coviran      pan    0.42   Malaga                800\n"
     ]
    }
   ],
   "source": [
    "import pandas as pd\n",
    "df = pd.read_csv(\"producto.csv\", sep=';')\n",
    "print(df)"
   ]
  },
  {
   "cell_type": "code",
   "execution_count": 25,
   "metadata": {},
   "outputs": [],
   "source": [
    "def producto(articulo):\n",
    "    global leche\n",
    "    global arroz\n",
    "    global pan\n",
    "    if articulo == 'Arroz':\n",
    "        arroz=df.loc[df['Producto'] == 'Arroz'].loc[df['Precio'] <= 0.75]\n",
    "        print(arroz)\n",
    "    if articulo == 'leche':\n",
    "        leche=df.loc[df['Producto'] == 'leche'].loc[df['Precio'] <= 0.79]\n",
    "        print(leche)\n",
    "    if articulo == 'pan':\n",
    "        pan=df.loc[df['Producto'] == 'pan'].loc[df['Precio'] <= 0.45]\n",
    "        print(pan)    "
   ]
  },
  {
   "cell_type": "code",
   "execution_count": 27,
   "metadata": {},
   "outputs": [
    {
     "name": "stdout",
     "output_type": "stream",
     "text": [
      "       Nombre Producto  Precio   Ciudad  Poder_Adquisitivo\n",
      "6   Mercadona    Arroz    0.75  Almeria                950\n",
      "7        Dani    Arroz    0.72  Almeria                600\n",
      "10  Carrefour    Arroz    0.72  Almeria               1200\n",
      "11    Coviran    Arroz    0.74  Almeria                900\n",
      "      Nombre Producto  Precio   Ciudad  Poder_Adquisitivo\n",
      "2       Lidl    leche    0.79  Granada                800\n",
      "3       Aldi    leche    0.77  Granada                850\n",
      "4  Carrefour    leche    0.75  Granada               1000\n",
      "5    Coviran    leche    0.78  Granada                875\n",
      "       Nombre Producto  Precio  Ciudad  Poder_Adquisitivo\n",
      "12  Mercadona      pan    0.45  Malaga               1000\n",
      "14       Lidl      pan    0.43  Malaga                900\n",
      "17    Coviran      pan    0.42  Malaga                800\n"
     ]
    }
   ],
   "source": [
    "producto('Arroz')\n",
    "producto('leche')\n",
    "producto('pan')"
   ]
  },
  {
   "cell_type": "code",
   "execution_count": null,
   "metadata": {},
   "outputs": [],
   "source": []
  }
 ],
 "metadata": {
  "kernelspec": {
   "display_name": "Python 3",
   "language": "python",
   "name": "python3"
  },
  "language_info": {
   "codemirror_mode": {
    "name": "ipython",
    "version": 3
   },
   "file_extension": ".py",
   "mimetype": "text/x-python",
   "name": "python",
   "nbconvert_exporter": "python",
   "pygments_lexer": "ipython3",
   "version": "3.6.6"
  }
 },
 "nbformat": 4,
 "nbformat_minor": 2
}
