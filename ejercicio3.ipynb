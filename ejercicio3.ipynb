{
 "cells": [
  {
   "cell_type": "code",
   "execution_count": 10,
   "metadata": {},
   "outputs": [
    {
     "name": "stdout",
     "output_type": "stream",
     "text": [
      "       Nombre Producto  Precio   Ciudad  Poder_Adquisitivo\n",
      "0   Mercadona    leche    0.89  Granada                900\n",
      "1        Dani    leche    0.82  Granada                750\n",
      "2        Lidl    leche    0.79  Granada                800\n",
      "3        Aldi    leche    0.77  Granada                850\n",
      "4   Carrefour    leche    0.75  Granada               1000\n",
      "5     Coviran    leche    0.78  Granada                875\n",
      "6   Mercadona    Arroz    0.75  Almeria                950\n",
      "7        Dani    Arroz    0.72  Almeria                600\n",
      "8        Lidl    Arroz    0.78  Almeria                800\n",
      "9        Aldi    Arroz    0.79  Almeria                750\n",
      "10  Carrefour    Arroz    0.72  Almeria               1200\n",
      "11    Coviran    Arroz    0.74  Almeria                900\n",
      "12  Mercadona      pan    0.45   Malaga               1000\n",
      "13       Dani      pan    0.46   Malaga                800\n",
      "14       Lidl      pan    0.43   Malaga                900\n",
      "15       Aldi      pan    0.48   Malaga                950\n",
      "16  Carrefour      pan    0.50   Malaga               1100\n",
      "17    Coviran      pan    0.42   Malaga                800\n"
     ]
    }
   ],
   "source": [
    "import pandas as pd\n",
    "df = pd.read_csv(\"producto.csv\", sep=';')\n",
    "print(df)"
   ]
  },
  {
   "cell_type": "code",
   "execution_count": 25,
   "metadata": {},
   "outputs": [],
   "source": [
    "def producto(articulo):\n",
    "    global leche\n",
    "    global arroz\n",
    "    global pan\n",
    "    if articulo == 'Arroz':\n",
    "        arroz=df.loc[df['Producto'] == 'Arroz'].loc[df['Precio'] <= 0.75]\n",
    "        print(arroz)\n",
    "    if articulo == 'leche':\n",
    "        leche=df.loc[df['Producto'] == 'leche'].loc[df['Precio'] <= 0.79]\n",
    "        print(leche)\n",
    "    if articulo == 'pan':\n",
    "        pan=df.loc[df['Producto'] == 'pan'].loc[df['Precio'] <= 0.45]\n",
    "        print(pan)    "
   ]
  },
  {
   "cell_type": "code",
   "execution_count": 27,
   "metadata": {},
   "outputs": [
    {
     "name": "stdout",
     "output_type": "stream",
     "text": [
      "       Nombre Producto  Precio   Ciudad  Poder_Adquisitivo\n",
      "6   Mercadona    Arroz    0.75  Almeria                950\n",
      "7        Dani    Arroz    0.72  Almeria                600\n",
      "10  Carrefour    Arroz    0.72  Almeria               1200\n",
      "11    Coviran    Arroz    0.74  Almeria                900\n",
      "      Nombre Producto  Precio   Ciudad  Poder_Adquisitivo\n",
      "2       Lidl    leche    0.79  Granada                800\n",
      "3       Aldi    leche    0.77  Granada                850\n",
      "4  Carrefour    leche    0.75  Granada               1000\n",
      "5    Coviran    leche    0.78  Granada                875\n",
      "       Nombre Producto  Precio  Ciudad  Poder_Adquisitivo\n",
      "12  Mercadona      pan    0.45  Malaga               1000\n",
      "14       Lidl      pan    0.43  Malaga                900\n",
      "17    Coviran      pan    0.42  Malaga                800\n"
     ]
    }
   ],
   "source": [
    "producto('Arroz')\n",
    "producto('leche')\n",
    "producto('pan')"
   ]
  },
  {
   "cell_type": "code",
   "execution_count": 37,
   "metadata": {},
   "outputs": [],
   "source": [
    "class productos:        \n",
    "    def proBaratos(self):\n",
    "        barato = pd.concat([arroz,leche,pan])\n",
    "        barato.groupby('Nombre','Producto')['Precio'].min().plot(kind='bar')"
   ]
  },
  {
   "cell_type": "code",
   "execution_count": 38,
   "metadata": {},
   "outputs": [
    {
     "ename": "ValueError",
     "evalue": "No axis named Producto for object type <class 'pandas.core.frame.DataFrame'>",
     "output_type": "error",
     "traceback": [
      "\u001b[0;31m---------------------------------------------------------------------------\u001b[0m",
      "\u001b[0;31mValueError\u001b[0m                                Traceback (most recent call last)",
      "\u001b[0;32m<ipython-input-38-f35e652d6317>\u001b[0m in \u001b[0;36m<module>\u001b[0;34m\u001b[0m\n\u001b[1;32m      1\u001b[0m \u001b[0mproductobarato\u001b[0m \u001b[0;34m=\u001b[0m \u001b[0mproductos\u001b[0m\u001b[0;34m(\u001b[0m\u001b[0;34m)\u001b[0m\u001b[0;34m\u001b[0m\u001b[0m\n\u001b[0;32m----> 2\u001b[0;31m \u001b[0mproductobarato\u001b[0m\u001b[0;34m.\u001b[0m\u001b[0mproBaratos\u001b[0m\u001b[0;34m(\u001b[0m\u001b[0;34m)\u001b[0m\u001b[0;34m\u001b[0m\u001b[0m\n\u001b[0m",
      "\u001b[0;32m<ipython-input-37-59f5082c1701>\u001b[0m in \u001b[0;36mproBaratos\u001b[0;34m(self)\u001b[0m\n\u001b[1;32m      2\u001b[0m     \u001b[0;32mdef\u001b[0m \u001b[0mproBaratos\u001b[0m\u001b[0;34m(\u001b[0m\u001b[0mself\u001b[0m\u001b[0;34m)\u001b[0m\u001b[0;34m:\u001b[0m\u001b[0;34m\u001b[0m\u001b[0m\n\u001b[1;32m      3\u001b[0m         \u001b[0mbarato\u001b[0m \u001b[0;34m=\u001b[0m \u001b[0mpd\u001b[0m\u001b[0;34m.\u001b[0m\u001b[0mconcat\u001b[0m\u001b[0;34m(\u001b[0m\u001b[0;34m[\u001b[0m\u001b[0marroz\u001b[0m\u001b[0;34m,\u001b[0m\u001b[0mleche\u001b[0m\u001b[0;34m,\u001b[0m\u001b[0mpan\u001b[0m\u001b[0;34m]\u001b[0m\u001b[0;34m)\u001b[0m\u001b[0;34m\u001b[0m\u001b[0m\n\u001b[0;32m----> 4\u001b[0;31m         \u001b[0mbarato\u001b[0m\u001b[0;34m.\u001b[0m\u001b[0mgroupby\u001b[0m\u001b[0;34m(\u001b[0m\u001b[0;34m'Nombre'\u001b[0m\u001b[0;34m,\u001b[0m\u001b[0;34m'Producto'\u001b[0m\u001b[0;34m)\u001b[0m\u001b[0;34m[\u001b[0m\u001b[0;34m'Precio'\u001b[0m\u001b[0;34m]\u001b[0m\u001b[0;34m.\u001b[0m\u001b[0mmin\u001b[0m\u001b[0;34m(\u001b[0m\u001b[0;34m)\u001b[0m\u001b[0;34m.\u001b[0m\u001b[0mplot\u001b[0m\u001b[0;34m(\u001b[0m\u001b[0mkind\u001b[0m\u001b[0;34m=\u001b[0m\u001b[0;34m'bar'\u001b[0m\u001b[0;34m)\u001b[0m\u001b[0;34m\u001b[0m\u001b[0m\n\u001b[0m",
      "\u001b[0;32m/usr/local/anaconda3/lib/python3.6/site-packages/pandas/core/generic.py\u001b[0m in \u001b[0;36mgroupby\u001b[0;34m(self, by, axis, level, as_index, sort, group_keys, squeeze, observed, **kwargs)\u001b[0m\n\u001b[1;32m   6660\u001b[0m         \u001b[0;32mif\u001b[0m \u001b[0mlevel\u001b[0m \u001b[0;32mis\u001b[0m \u001b[0;32mNone\u001b[0m \u001b[0;32mand\u001b[0m \u001b[0mby\u001b[0m \u001b[0;32mis\u001b[0m \u001b[0;32mNone\u001b[0m\u001b[0;34m:\u001b[0m\u001b[0;34m\u001b[0m\u001b[0m\n\u001b[1;32m   6661\u001b[0m             \u001b[0;32mraise\u001b[0m \u001b[0mTypeError\u001b[0m\u001b[0;34m(\u001b[0m\u001b[0;34m\"You have to supply one of 'by' and 'level'\"\u001b[0m\u001b[0;34m)\u001b[0m\u001b[0;34m\u001b[0m\u001b[0m\n\u001b[0;32m-> 6662\u001b[0;31m         \u001b[0maxis\u001b[0m \u001b[0;34m=\u001b[0m \u001b[0mself\u001b[0m\u001b[0;34m.\u001b[0m\u001b[0m_get_axis_number\u001b[0m\u001b[0;34m(\u001b[0m\u001b[0maxis\u001b[0m\u001b[0;34m)\u001b[0m\u001b[0;34m\u001b[0m\u001b[0m\n\u001b[0m\u001b[1;32m   6663\u001b[0m         return groupby(self, by=by, axis=axis, level=level, as_index=as_index,\n\u001b[1;32m   6664\u001b[0m                        \u001b[0msort\u001b[0m\u001b[0;34m=\u001b[0m\u001b[0msort\u001b[0m\u001b[0;34m,\u001b[0m \u001b[0mgroup_keys\u001b[0m\u001b[0;34m=\u001b[0m\u001b[0mgroup_keys\u001b[0m\u001b[0;34m,\u001b[0m \u001b[0msqueeze\u001b[0m\u001b[0;34m=\u001b[0m\u001b[0msqueeze\u001b[0m\u001b[0;34m,\u001b[0m\u001b[0;34m\u001b[0m\u001b[0m\n",
      "\u001b[0;32m/usr/local/anaconda3/lib/python3.6/site-packages/pandas/core/generic.py\u001b[0m in \u001b[0;36m_get_axis_number\u001b[0;34m(self, axis)\u001b[0m\n\u001b[1;32m    373\u001b[0m                 \u001b[0;32mpass\u001b[0m\u001b[0;34m\u001b[0m\u001b[0m\n\u001b[1;32m    374\u001b[0m         raise ValueError('No axis named {0} for object type {1}'\n\u001b[0;32m--> 375\u001b[0;31m                          .format(axis, type(self)))\n\u001b[0m\u001b[1;32m    376\u001b[0m \u001b[0;34m\u001b[0m\u001b[0m\n\u001b[1;32m    377\u001b[0m     \u001b[0;32mdef\u001b[0m \u001b[0m_get_axis_name\u001b[0m\u001b[0;34m(\u001b[0m\u001b[0mself\u001b[0m\u001b[0;34m,\u001b[0m \u001b[0maxis\u001b[0m\u001b[0;34m)\u001b[0m\u001b[0;34m:\u001b[0m\u001b[0;34m\u001b[0m\u001b[0m\n",
      "\u001b[0;31mValueError\u001b[0m: No axis named Producto for object type <class 'pandas.core.frame.DataFrame'>"
     ]
    }
   ],
   "source": [
    "productobarato = productos()\n",
    "productobarato.proBaratos()"
   ]
  },
  {
   "cell_type": "code",
   "execution_count": null,
   "metadata": {},
   "outputs": [],
   "source": []
  }
 ],
 "metadata": {
  "kernelspec": {
   "display_name": "Python 3",
   "language": "python",
   "name": "python3"
  },
  "language_info": {
   "codemirror_mode": {
    "name": "ipython",
    "version": 3
   },
   "file_extension": ".py",
   "mimetype": "text/x-python",
   "name": "python",
   "nbconvert_exporter": "python",
   "pygments_lexer": "ipython3",
   "version": "3.6.6"
  }
 },
 "nbformat": 4,
 "nbformat_minor": 2
}
